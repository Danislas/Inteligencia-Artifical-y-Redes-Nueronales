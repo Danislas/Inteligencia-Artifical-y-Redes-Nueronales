{
  "nbformat": 4,
  "nbformat_minor": 0,
  "metadata": {
    "colab": {
      "name": "IA_Ejercicio2_LuisDanielIslasValencia_1865181.ipynb",
      "provenance": []
    },
    "kernelspec": {
      "name": "python3",
      "display_name": "Python 3"
    },
    "language_info": {
      "name": "python"
    }
  },
  "cells": [
    {
      "cell_type": "markdown",
      "metadata": {
        "id": "FqPAH1dJyIXu"
      },
      "source": [
        "###**Actividad 3.- Ejercicios Introducción Python, 2da parte**\n",
        "\n",
        "*Martes N4 Inteligencia Artificial y Redes Neuronales*\n",
        "\n",
        "*Luis Daniel Islas Valencia 1865181 IB*\n",
        "\n",
        "**Instrucciones**\n",
        "\n",
        "Realizar los siguientes ejercicios en un notebook de google colab y subir su archivo final a su repositorio en GitHub."
      ]
    },
    {
      "cell_type": "markdown",
      "metadata": {
        "id": "wZroWXoC1nuU"
      },
      "source": [
        "***Ejercicio 1:***\n",
        "\n",
        "1.1 Piensa en 7 comidas diferente que te gusten. Implementa un programa que pregunte por las 7 comidas, las almacene en una lista y que posteriermente imprima cada una de ellas utilizando uno de los ciclos comentados en clase. "
      ]
    },
    {
      "cell_type": "code",
      "metadata": {
        "colab": {
          "base_uri": "https://localhost:8080/"
        },
        "id": "aDRYWaFI9Iar",
        "outputId": "05fd62f6-3a66-4a82-9acf-8dd7aa7682db"
      },
      "source": [
        "lista = [] #Se crea una lista vacía\n",
        "for i in range(7): #Ciclo para almacenar las comidas\n",
        "    lista.append(input(\"Una comida favorita: \")) #Función para agregar las comidas a la lista\n",
        "print(\"Las 7 comidas favoritas son: \") \n",
        "for i in lista: #Ciclo para imprimir\n",
        "    print(i)"
      ],
      "execution_count": 55,
      "outputs": [
        {
          "output_type": "stream",
          "name": "stdout",
          "text": [
            "Una comida favorita: Hamburguesa\n",
            "Una comida favorita: Tacos\n",
            "Una comida favorita: Pizza\n",
            "Una comida favorita: Boneless\n",
            "Una comida favorita: Enchiladas\n",
            "Una comida favorita: Pescado\n",
            "Una comida favorita: Barbacoa\n",
            "Las 7 comidas favoritas son: \n",
            "Hamburguesa\n",
            "Tacos\n",
            "Pizza\n",
            "Boneless\n",
            "Enchiladas\n",
            "Pescado\n",
            "Barbacoa\n"
          ]
        }
      ]
    },
    {
      "cell_type": "markdown",
      "metadata": {
        "id": "aVnnA1pXDmNE"
      },
      "source": [
        "1.2 Modifica el ejercicio 1.1 para que imprima cada una de las comidas favoritas junto con una oracición inicial: \"Una de mis comidas favoritas es [comida1]\"."
      ]
    },
    {
      "cell_type": "code",
      "metadata": {
        "colab": {
          "base_uri": "https://localhost:8080/"
        },
        "id": "bgkYHRrJD7Us",
        "outputId": "4d048357-f590-4176-e3e8-e2501e16dfaa"
      },
      "source": [
        "lista = [] #Se crea una lista vacía\n",
        "for i in range(7): #Ciclo para almacenar las comidas\n",
        "    lista.append(input(\"Una comida favorita: \")) #Función para agregar las comidas a la lista\n",
        "print(\"Las 7 comidas favoritas son: \") \n",
        "for i in lista: #Ciclo para imprimir\n",
        "    print(\"Una de mis comidas favoritas es \" + i + \".\")   #Print para las comidas"
      ],
      "execution_count": 51,
      "outputs": [
        {
          "output_type": "stream",
          "name": "stdout",
          "text": [
            "Una comida favorita: Hamburguesa\n",
            "Una comida favorita: Tacos\n",
            "Una comida favorita: Pizza\n",
            "Una comida favorita: Boneless\n",
            "Una comida favorita: Enchiladas\n",
            "Una comida favorita: Pescado\n",
            "Una comida favorita: Barbacoa\n",
            "Las 7 comidas favoritas son: \n",
            "Una de mis comidas favoritas es Hamburguesa.\n",
            "Una de mis comidas favoritas es Tacos.\n",
            "Una de mis comidas favoritas es Pizza.\n",
            "Una de mis comidas favoritas es Boneless.\n",
            "Una de mis comidas favoritas es Enchiladas.\n",
            "Una de mis comidas favoritas es Pescado.\n",
            "Una de mis comidas favoritas es Barbacoa.\n"
          ]
        }
      ]
    },
    {
      "cell_type": "markdown",
      "metadata": {
        "id": "r5C2BQAx6NgH"
      },
      "source": [
        "***Ejercicio 2:***\n",
        "\n",
        "Crear un juego de piedra, papel o tijera de dos jugadores. El programa preguntará por la opción del jugador 1 y la opción del jugador 2 y dará como resultado quien ganó el juego. "
      ]
    },
    {
      "cell_type": "code",
      "metadata": {
        "colab": {
          "base_uri": "https://localhost:8080/"
        },
        "id": "-usujaEoEyci",
        "outputId": "d4d1a228-1e10-4d8a-ac5b-bb4cdf91d3ba"
      },
      "source": [
        "print(\"Juego de piedra, papel o tijera de 2 jugadores\") \n",
        "print(\"a = Piedra\") #Se imprimen las opciones a elegir por los jugadores\n",
        "print(\"b = Papel\")\n",
        "print(\"c = Tijera\")\n",
        "j1 = str(input(\"Opción del jugador 1: \")) #Se solicita a los jugadores introducir su opción\n",
        "j2 = str(input(\"Opción del jugador 2: \"))\n",
        "\n",
        "if j1 == \"a\" and j2 == \"c\": #Se definen los resultados que arrojará el juego dependiendo de las opciones de los jugadores\n",
        "    print(\"¡Gana jugador 1!\")\n",
        "if j1 == \"a\" and j2 == \"b\":\n",
        "    print(\"¡Gana jugador 2!\")\n",
        "if j1 == \"a\" and j2 == \"a\":\n",
        "    print(\"¡Empate!\")\n",
        "if j1 == \"b\" and j2 == \"a\":\n",
        "    print(\"¡Gana jugador 1!\")\n",
        "if j1 == \"b\" and j2 == \"c\":\n",
        "    print(\"¡Gana jugador 2!\")\n",
        "if j1 == \"b\" and j2 == \"b\":\n",
        "    print(\"¡Empate!\")\n",
        "if j1 == \"c\" and j2 == \"b\":\n",
        "    print(\"¡Gana jugador 1!\")\n",
        "if j1 == \"c\" and j2 == \"a\":\n",
        "    print(\"¡Gana jugador 2!\")\n",
        "if j1 == \"c\" and j2 == \"c\":\n",
        "    print(\"¡Empate!\")"
      ],
      "execution_count": 52,
      "outputs": [
        {
          "output_type": "stream",
          "name": "stdout",
          "text": [
            "Juego de piedra, papel o tijera de 2 jugadores\n",
            "a = Piedra\n",
            "b = Papel\n",
            "c = Tijera\n",
            "Opción del jugador 1: c\n",
            "Opción del jugador 2: a\n",
            "¡Gana jugador 2!\n"
          ]
        }
      ]
    },
    {
      "cell_type": "markdown",
      "metadata": {
        "id": "y2g5Wqv4BOa7"
      },
      "source": [
        "***Ejercicio 3:***\n",
        "\n",
        "Implementar un programa que imprima el siguiente patron:\n",
        "\n",
        "123456\n",
        "\n",
        "12345\n",
        "\n",
        "1234\n",
        "\n",
        "123\n",
        "\n",
        "12\n",
        "\n",
        "1\n",
        "\n",
        "12\n",
        "\n",
        "123\n",
        "\n",
        "1234\n",
        "\n",
        "12345\n",
        "\n",
        "123456"
      ]
    },
    {
      "cell_type": "code",
      "metadata": {
        "colab": {
          "base_uri": "https://localhost:8080/"
        },
        "id": "FXnOJyxRMeYf",
        "outputId": "55a4fb12-931f-49d1-9ab0-e7de92cdb852"
      },
      "source": [
        "for i in range(6,0,-1): #Ciclo que disminuye de 1 en 1 que va del 6 hasta el 1\n",
        "    for j in range(1,i+1): #Ciclo para la numeración\n",
        "        print(j, end=\" \") #Uso de end para que se impriman los números en la misma fila\n",
        "    print() #Print para realizar salto de línea\n",
        "for i in range(2,7,+1): #Ciclo que aumenta de 1 en 1 que va del 2 hasta el 6\n",
        "    for j in range(1,i+1):\n",
        "        print(j, end=\" \")\n",
        "    print()"
      ],
      "execution_count": 56,
      "outputs": [
        {
          "output_type": "stream",
          "name": "stdout",
          "text": [
            "1 2 3 4 5 6 \n",
            "1 2 3 4 5 \n",
            "1 2 3 4 \n",
            "1 2 3 \n",
            "1 2 \n",
            "1 \n",
            "1 2 \n",
            "1 2 3 \n",
            "1 2 3 4 \n",
            "1 2 3 4 5 \n",
            "1 2 3 4 5 6 \n"
          ]
        }
      ]
    }
  ]
}