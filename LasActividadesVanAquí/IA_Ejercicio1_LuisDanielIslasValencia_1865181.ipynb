{
  "nbformat": 4,
  "nbformat_minor": 0,
  "metadata": {
    "colab": {
      "name": "IA_Ejercicio1_LuisDanielIslasValencia_1865181.ipynb",
      "provenance": [],
      "collapsed_sections": []
    },
    "kernelspec": {
      "name": "python3",
      "display_name": "Python 3"
    },
    "language_info": {
      "name": "python"
    }
  },
  "cells": [
    {
      "cell_type": "markdown",
      "metadata": {
        "id": "FqPAH1dJyIXu"
      },
      "source": [
        "###**Actividad 2.- Ejercicios Introducción Python**\n",
        "\n",
        "*Martes N4 Inteligencia Artificial y Redes Neuronales*\n",
        "\n",
        "*Luis Daniel Islas Valencia 1865181 IB*\n",
        "\n",
        "**Instrucciones**\n",
        "\n",
        "Realizar los siguientes ejercicios en un notebook de google colab y subir su archivo final a su repositorio en GitHub."
      ]
    },
    {
      "cell_type": "markdown",
      "metadata": {
        "id": "wZroWXoC1nuU"
      },
      "source": [
        "***Ejercicio 1:***\n",
        "\n",
        "Crear un programa que pregunte al usuario por su nombre, edad, una frase favorita y autor de la frase favorita. El programa deberá de imprimir un mensaje compuesto por el nombre y edad del usuario diciendo que su frase favorita es la que dió anteriormente y el autor de dicha frase es el nombre previamente dado. Aquí habrá que realizar una concatenación de variables. "
      ]
    },
    {
      "cell_type": "code",
      "metadata": {
        "colab": {
          "base_uri": "https://localhost:8080/"
        },
        "id": "LR1KFLO5yGKT",
        "outputId": "22a7725f-a8e4-42b8-c2cc-84d41112f9d2"
      },
      "source": [
        "nombre = input(\"Nombre: \") #Input para pedir los datos requeridos\n",
        "edad = input(\"Edad: \")\n",
        "frase = input(\"Una frase favorita: \")\n",
        "autor = input(\"Autor de la frase favorita: \")\n",
        "#Se desarrollan los mensajes\n",
        "a = \"Mi nombre es \" + nombre\n",
        "b = \" y tengo \" + edad + \" años. \"\n",
        "c = \"Mi frase favorita es: \" + frase + \",\"\n",
        "d = \" y el autor de esa frase es \" + autor + \".\" \n",
        "print(a+b+c+d) #Print para mprimir en un parráfo las variables juntas"
      ],
      "execution_count": 1,
      "outputs": [
        {
          "output_type": "stream",
          "text": [
            "Nombre: Daniel\n",
            "Edad: 20\n",
            "Una frase favorita: La clave del éxito es el fracaso\n",
            "Autor de la frase favorita: Michael Jordan\n",
            "Mi nombre es Daniel y tengo 20 años. Mi frase favorita es: La clave del éxito es el fracaso, y el autor de esa frase es Michael Jordan.\n"
          ],
          "name": "stdout"
        }
      ]
    },
    {
      "cell_type": "markdown",
      "metadata": {
        "id": "r5C2BQAx6NgH"
      },
      "source": [
        "***Ejercicio 2:***\n",
        "\n",
        "Crear un programa que le pida al usuario capturar dos números enteros y dos números flotantes. Después, realizará la suma, resta, multiplicación y división, de ambos pares de números. Como resultado se deberán de obtener 8 valores. Imprimir todos estos reultados."
      ]
    },
    {
      "cell_type": "code",
      "metadata": {
        "colab": {
          "base_uri": "https://localhost:8080/"
        },
        "id": "Pvwv5j6q6XKg",
        "outputId": "2a97b6e8-cedf-4da4-bdef-8afc0b7218a6"
      },
      "source": [
        "x = input(\"Escriba un número entero: \") #Input para pedir los números\n",
        "x = int(x) #Int para convertir los números en enteros\n",
        "y = input(\"Escriba otro número entero diferente de cero: \") #Debe ser diferente de cero para no generar errores en la división\n",
        "y = int(y)\n",
        "a = input(\"Escriba un número flotante: \") \n",
        "a = float(a) #Float para convertir los números en flotantes\n",
        "b = input(\"Escribe otro número flotante diferente de cero: \")\n",
        "b = float(b)\n",
        "#Se realizan las operaciones\n",
        "sum1 = x+y\n",
        "res1 = x-y\n",
        "mul1 = x*y\n",
        "div1 = x/y\n",
        "sum2 = a+b\n",
        "res2 = a-b\n",
        "mul2 = a*b\n",
        "div2 = a/b\n",
        "#Se imprimen los valores\n",
        "print(\"La suma de los números enteros es: \", sum1)\n",
        "print(\"La resta de los números enteros es: \", res1)\n",
        "print(\"La multiplicación de los números enteros es: \", mul1)\n",
        "print(\"La división de los números enteros es: \", div1) \n",
        "print(\"La suma de los números flotantes es: \", sum2)\n",
        "print(\"La resta de los números flotantes es: \", res2)\n",
        "print(\"La multiplicación de los números flotantes es: \", mul2)\n",
        "print(\"La división de los números flotantes es: \", div2)"
      ],
      "execution_count": 2,
      "outputs": [
        {
          "output_type": "stream",
          "text": [
            "Escriba un número entero: 5\n",
            "Escriba otro número entero diferente de cero: 10\n",
            "Escriba un número flotante: 9.05\n",
            "Escribe otro número flotante diferente de cero: 3.2\n",
            "La suma de los números enteros es:  15\n",
            "La resta de los números enteros es:  -5\n",
            "La multiplicación de los números enteros es:  50\n",
            "La división de los números enteros es:  0.5\n",
            "La suma de los números flotantes es:  12.25\n",
            "La resta de los números flotantes es:  5.8500000000000005\n",
            "La multiplicación de los números flotantes es:  28.960000000000004\n",
            "La división de los números flotantes es:  2.828125\n"
          ],
          "name": "stdout"
        }
      ]
    },
    {
      "cell_type": "markdown",
      "metadata": {
        "id": "y2g5Wqv4BOa7"
      },
      "source": [
        "***Ejercicio 3:***\n",
        "\n",
        "Crear un programa que evalúe dos expresiones lógicas con 'and', dos con 'or' y dos con 'not'. Cada expresión deberá hacer uso de operadores de comparación. "
      ]
    },
    {
      "cell_type": "code",
      "metadata": {
        "colab": {
          "base_uri": "https://localhost:8080/"
        },
        "id": "EDrWOvM9BeT4",
        "outputId": "6fabfd2a-4d26-4700-c020-8bfc366cf0e6"
      },
      "source": [
        "#Se piden 2 números enteros para compararlos y utilizar expresiones lógicas\n",
        "x = input(\"Escriba un número entero (núm 1): \") #Input para pedir los números\n",
        "x = int(x) #Int para convertir los números en enteros\n",
        "y = input(\"Escriba otro número entero (núm 2): \")\n",
        "y = int(y)\n",
        "#Se comparan los valores y se evalúan las expresiones\n",
        "print(\"Núm 1 es mayor o igual que núm 2 y núm 2 es menor o igual que núm 1: \", x>=y and y<=x)\n",
        "print(\"Núm 1 es diferente de núm 2 y núm 2 es diferente de cero: \", x!=y and y!=0)\n",
        "print(\"Núm 1 es menor que 10 o núm 1 es igual a núm 2: \", x<10 or x==y)\n",
        "print(\"Núm 1 es igual a 7 o núm 1 es menor que núm 2: \", x==7 or x<y)\n",
        "print(\"Núm 1 no es igual a núm 2: \", not x==y)\n",
        "print(\"Núm 2 no es menor que 20: \", not y<20)"
      ],
      "execution_count": 3,
      "outputs": [
        {
          "output_type": "stream",
          "text": [
            "Escriba un número entero (núm 1): 7\n",
            "Escriba otro número entero (núm 2): 10\n",
            "Núm 1 es mayor o igual que núm 2 y núm 2 es menor o igual que núm 1:  False\n",
            "Núm 1 es diferente de núm 2 y núm 2 es diferente de cero:  True\n",
            "Núm 1 es menor que 10 o núm 1 es igual a núm 2:  True\n",
            "Núm 1 es igual a 7 o núm 1 es menor que núm 2:  True\n",
            "Núm 1 no es igual a núm 2:  True\n",
            "Núm 2 no es menor que 20:  False\n"
          ],
          "name": "stdout"
        }
      ]
    }
  ]
}