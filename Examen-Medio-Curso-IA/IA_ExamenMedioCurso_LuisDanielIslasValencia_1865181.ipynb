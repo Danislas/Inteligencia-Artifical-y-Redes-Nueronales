{
  "nbformat": 4,
  "nbformat_minor": 0,
  "metadata": {
    "colab": {
      "name": "IA_ExamenMedioCurso_LuisDanielIslasValencia_1865181.ipynb",
      "provenance": [],
      "authorship_tag": "ABX9TyNBTW741loBSHWPHIj7vJkd",
      "include_colab_link": true
    },
    "kernelspec": {
      "name": "python3",
      "display_name": "Python 3"
    },
    "language_info": {
      "name": "python"
    }
  },
  "cells": [
    {
      "cell_type": "markdown",
      "metadata": {
        "id": "view-in-github",
        "colab_type": "text"
      },
      "source": [
        "<a href=\"https://colab.research.google.com/github/Danislas/Inteligencia-Artifical-y-Redes-Nueronales/blob/main/Examen-Medio-Curso-IA/IA_ExamenMedioCurso_LuisDanielIslasValencia_1865181.ipynb\" target=\"_parent\"><img src=\"https://colab.research.google.com/assets/colab-badge.svg\" alt=\"Open In Colab\"/></a>"
      ]
    },
    {
      "cell_type": "markdown",
      "metadata": {
        "id": "FqPAH1dJyIXu"
      },
      "source": [
        "###**Examen Medio Curso IA**\n",
        "\n",
        "*Martes N4 Inteligencia Artificial y Redes Neuronales*\n",
        "\n",
        "*Luis Daniel Islas Valencia 1865181 IB*\n",
        "\n",
        "**Instrucciones**\n",
        "\n",
        "Desarrollar un código en python para cada uno de los ejercicios:"
      ]
    },
    {
      "cell_type": "markdown",
      "metadata": {
        "id": "bnZ9jhRrArDo"
      },
      "source": [
        "1.1 El usuario dará un número al azar y el código calculará la suma de todos los números desde el 1 hasta el número dado por el usuario.\n",
        "Ejemplo: el usuario dió el número 4, el código deberá de dar como resultado 10."
      ]
    },
    {
      "cell_type": "code",
      "metadata": {
        "colab": {
          "base_uri": "https://localhost:8080/"
        },
        "id": "WSarcNjM_6T4",
        "outputId": "7a8b1955-026a-4dc0-ec28-bf45b6330ab5"
      },
      "source": [
        "n = input(\"Ingresa un número entero al azar: \")\n",
        "n = int (n)\n",
        "suma = 0\n",
        "for i in range(1,n+1,1):\n",
        "  suma = suma + i\n",
        "print(suma)"
      ],
      "execution_count": 8,
      "outputs": [
        {
          "output_type": "stream",
          "name": "stdout",
          "text": [
            "Ingresa un número entero al azar: 7\n",
            "28\n"
          ]
        }
      ]
    },
    {
      "cell_type": "markdown",
      "metadata": {
        "id": "FH4c_5QpBGCe"
      },
      "source": [
        "1.2 Dados el inicio y final de un rango de números, guardar ese rango de números en una lista. Después, imprimir los números que son pares en la lista por medio de uno de los ciclos que vimos en clase. \n",
        "Inicio = 6, final = 31"
      ]
    },
    {
      "cell_type": "code",
      "metadata": {
        "colab": {
          "base_uri": "https://localhost:8080/"
        },
        "id": "1ox-xJHAAqyu",
        "outputId": "378648d0-680c-44ae-b840-b8623202e5a8"
      },
      "source": [
        "lista = list(range(6,32))\n",
        "for i in lista:\n",
        "  if i%2 == 0:\n",
        "    print(i)"
      ],
      "execution_count": 9,
      "outputs": [
        {
          "output_type": "stream",
          "name": "stdout",
          "text": [
            "6\n",
            "8\n",
            "10\n",
            "12\n",
            "14\n",
            "16\n",
            "18\n",
            "20\n",
            "22\n",
            "24\n",
            "26\n",
            "28\n",
            "30\n"
          ]
        }
      ]
    }
  ]
}